{
 "cells": [
  {
   "cell_type": "code",
   "execution_count": 2,
   "metadata": {},
   "outputs": [
    {
     "data": {
      "text/markdown": [
       "```\n",
       "'micromamba' is running as a subprocess and can't modify the parent shell.\n",
       "Thus you must initialize your shell before using activate and deactivate.\n",
       "\n",
       "To initialize the current bash shell, run:\n",
       "    $ eval \"$(micromamba shell hook --shell bash)\"\n",
       "and then activate or deactivate with:\n",
       "    $ micromamba activate\n",
       "To automatically initialize all future (bash) shells, run:\n",
       "    $ micromamba shell init --shell bash --root-prefix=~/micromamba\n",
       "If your shell was already initialized, reinitialize your shell with:\n",
       "    $ micromamba shell reinit --shell bash\n",
       "Otherwise, this may be an issue. In the meantime you can run commands. See:\n",
       "    $ micromamba run --help\n",
       "\n",
       "Supported shells are {bash, zsh, csh, xonsh, cmd.exe, powershell, fish}.\n",
       "=================================================================\n",
       "Using input file: /home/parrot_user/Desktop/seldonUsage/seldon/trial/auto/conf.toml\n",
       "Output directory path set to: /home/parrot_user/Desktop/seldonUsage/seldon/trial/auto\n",
       "INFO: Seeding with seed -2031142159\n",
       "Model type: DeGroot\n",
       "Network has 300 agents\n",
       "Reading netwok from file /home/parrot_user/Desktop/seldonUsage/seldon/trial/auto/inputNetworks.txt\n",
       "Reading agents from file /home/parrot_user/Desktop/seldonUsage/seldon/trial/auto/inputAgents.txt\n",
       "WARNING: You have 0 strongly connected components in your network!\n",
       "Finished model setup\n",
       "-----------------------------------------------------------------\n",
       "Starting simulation\n",
       "-----------------------------------------------------------------\n",
       "-----------------------------------------------------------------\n",
       "Finished after 0 iterations, total time = 00h 00m 00.000s\n",
       "=================================================================\n",
       "```"
      ],
      "text/plain": [
       "<IPython.core.display.Markdown object>"
      ]
     },
     "metadata": {},
     "output_type": "display_data"
    }
   ],
   "source": [
    "import subprocess\n",
    "from IPython.display import display, Markdown\n",
    "\n",
    "try:\n",
    "    result = subprocess.run(['bash', 'script.sh'], capture_output=True, text=True, check=True)\n",
    "    output = result.stdout\n",
    "    display(Markdown(f'```{output}```'))\n",
    "except subprocess.CalledProcessError as e:\n",
    "    print(\"Error: \", e)"
   ]
  }
 ],
 "metadata": {
  "kernelspec": {
   "display_name": "Python 3",
   "language": "python",
   "name": "python3"
  },
  "language_info": {
   "codemirror_mode": {
    "name": "ipython",
    "version": 3
   },
   "file_extension": ".py",
   "mimetype": "text/x-python",
   "name": "python",
   "nbconvert_exporter": "python",
   "pygments_lexer": "ipython3",
   "version": "3.11.2"
  }
 },
 "nbformat": 4,
 "nbformat_minor": 2
}
